{
  "nbformat": 4,
  "nbformat_minor": 0,
  "metadata": {
    "colab": {
      "provenance": [],
      "gpuType": "T4"
    },
    "kernelspec": {
      "name": "python3",
      "display_name": "Python 3"
    },
    "language_info": {
      "name": "python"
    },
    "accelerator": "GPU"
  },
  "cells": [
    {
      "cell_type": "code",
      "execution_count": 1,
      "metadata": {
        "id": "X0jl8uopu7Yk"
      },
      "outputs": [],
      "source": [
        "# activation function , inputs,bias,mat mul\n",
        "import numpy as np\n",
        "def mysigmoid(x):\n",
        "  return 1/(1+np.exp(-x))"
      ]
    },
    {
      "cell_type": "code",
      "source": [
        "mysigmoid(6.7)"
      ],
      "metadata": {
        "colab": {
          "base_uri": "https://localhost:8080/"
        },
        "id": "V9DzfrpgvT0s",
        "outputId": "384c200a-62da-482e-f916-f0bf16f96bcb"
      },
      "execution_count": 2,
      "outputs": [
        {
          "output_type": "execute_result",
          "data": {
            "text/plain": [
              "np.float64(0.9987706013787226)"
            ]
          },
          "metadata": {},
          "execution_count": 2
        }
      ]
    },
    {
      "cell_type": "code",
      "source": [
        "class MyNeuron:\n",
        "  def __init__(self,weights,bias):\n",
        "    self.weights=weights\n",
        "    self.bias=bias\n",
        "\n",
        "\n",
        "  def feedforward(self,inputs):\n",
        "      total=np.dot(self.weights,inputs)+self.bias\n",
        "      return mysigmoid(total)\n",
        "\n",
        "\n",
        "weights=np.array([0.5,0.8]) #wegiths\n",
        "bias=2\n",
        "neuron=MyNeuron(weights,bias)\n",
        "\n",
        "# called feesforward\n",
        "x=np.array([2,3])\n"
      ],
      "metadata": {
        "id": "dxRFtwMrvbp2"
      },
      "execution_count": 9,
      "outputs": []
    },
    {
      "cell_type": "code",
      "source": [
        "print(neuron.feedforward(x))"
      ],
      "metadata": {
        "colab": {
          "base_uri": "https://localhost:8080/"
        },
        "id": "G1WFGvY8wddZ",
        "outputId": "201a37b0-6b9a-49c1-e0a9-3fe08fdfc744"
      },
      "execution_count": 10,
      "outputs": [
        {
          "output_type": "stream",
          "name": "stdout",
          "text": [
            "0.9955037268390589\n"
          ]
        }
      ]
    },
    {
      "cell_type": "code",
      "source": [],
      "metadata": {
        "id": "4aRW_2CRw5G3"
      },
      "execution_count": null,
      "outputs": []
    }
  ]
}
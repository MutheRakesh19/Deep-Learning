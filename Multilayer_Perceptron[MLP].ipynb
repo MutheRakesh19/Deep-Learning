{
  "nbformat": 4,
  "nbformat_minor": 0,
  "metadata": {
    "colab": {
      "provenance": [],
      "gpuType": "T4"
    },
    "kernelspec": {
      "name": "python3",
      "display_name": "Python 3"
    },
    "language_info": {
      "name": "python"
    },
    "accelerator": "GPU"
  },
  "cells": [
    {
      "cell_type": "code",
      "source": [
        "!pip install watermark"
      ],
      "metadata": {
        "colab": {
          "base_uri": "https://localhost:8080/"
        },
        "id": "KHzEGnmxyZ6z",
        "outputId": "5cf79f11-2268-4db2-b5ae-1dc018de3ee4"
      },
      "execution_count": 33,
      "outputs": [
        {
          "output_type": "stream",
          "name": "stdout",
          "text": [
            "Requirement already satisfied: watermark in /usr/local/lib/python3.11/dist-packages (2.5.0)\n",
            "Requirement already satisfied: ipython>=6.0 in /usr/local/lib/python3.11/dist-packages (from watermark) (7.34.0)\n",
            "Requirement already satisfied: importlib-metadata>=1.4 in /usr/local/lib/python3.11/dist-packages (from watermark) (8.6.1)\n",
            "Requirement already satisfied: setuptools in /usr/local/lib/python3.11/dist-packages (from watermark) (75.2.0)\n",
            "Requirement already satisfied: zipp>=3.20 in /usr/local/lib/python3.11/dist-packages (from importlib-metadata>=1.4->watermark) (3.21.0)\n",
            "Requirement already satisfied: jedi>=0.16 in /usr/local/lib/python3.11/dist-packages (from ipython>=6.0->watermark) (0.19.2)\n",
            "Requirement already satisfied: decorator in /usr/local/lib/python3.11/dist-packages (from ipython>=6.0->watermark) (4.4.2)\n",
            "Requirement already satisfied: pickleshare in /usr/local/lib/python3.11/dist-packages (from ipython>=6.0->watermark) (0.7.5)\n",
            "Requirement already satisfied: traitlets>=4.2 in /usr/local/lib/python3.11/dist-packages (from ipython>=6.0->watermark) (5.7.1)\n",
            "Requirement already satisfied: prompt-toolkit!=3.0.0,!=3.0.1,<3.1.0,>=2.0.0 in /usr/local/lib/python3.11/dist-packages (from ipython>=6.0->watermark) (3.0.50)\n",
            "Requirement already satisfied: pygments in /usr/local/lib/python3.11/dist-packages (from ipython>=6.0->watermark) (2.18.0)\n",
            "Requirement already satisfied: backcall in /usr/local/lib/python3.11/dist-packages (from ipython>=6.0->watermark) (0.2.0)\n",
            "Requirement already satisfied: matplotlib-inline in /usr/local/lib/python3.11/dist-packages (from ipython>=6.0->watermark) (0.1.7)\n",
            "Requirement already satisfied: pexpect>4.3 in /usr/local/lib/python3.11/dist-packages (from ipython>=6.0->watermark) (4.9.0)\n",
            "Requirement already satisfied: parso<0.9.0,>=0.8.4 in /usr/local/lib/python3.11/dist-packages (from jedi>=0.16->ipython>=6.0->watermark) (0.8.4)\n",
            "Requirement already satisfied: ptyprocess>=0.5 in /usr/local/lib/python3.11/dist-packages (from pexpect>4.3->ipython>=6.0->watermark) (0.7.0)\n",
            "Requirement already satisfied: wcwidth in /usr/local/lib/python3.11/dist-packages (from prompt-toolkit!=3.0.0,!=3.0.1,<3.1.0,>=2.0.0->ipython>=6.0->watermark) (0.2.13)\n"
          ]
        }
      ]
    },
    {
      "cell_type": "code",
      "source": [
        "%load_ext watermark\n",
        "%watermark -a 'Rakesh Varma' -v -p torch"
      ],
      "metadata": {
        "colab": {
          "base_uri": "https://localhost:8080/"
        },
        "id": "y7Jb2adyy5uz",
        "outputId": "ab66dd02-49d4-4fb4-fe38-1f2489d9b27a"
      },
      "execution_count": 34,
      "outputs": [
        {
          "output_type": "stream",
          "name": "stdout",
          "text": [
            "The watermark extension is already loaded. To reload it, use:\n",
            "  %reload_ext watermark\n",
            "Author: Rakesh Varma\n",
            "\n",
            "Python implementation: CPython\n",
            "Python version       : 3.11.12\n",
            "IPython version      : 7.34.0\n",
            "\n",
            "torch: 2.6.0+cu124\n",
            "\n"
          ]
        }
      ]
    },
    {
      "cell_type": "markdown",
      "source": [
        "### import The Libraries"
      ],
      "metadata": {
        "id": "A0vL_r7RyC6U"
      }
    },
    {
      "cell_type": "code",
      "execution_count": 2,
      "metadata": {
        "id": "9vQ0Yvv8Zrb7"
      },
      "outputs": [],
      "source": [
        "import torch\n",
        "import torch.nn as nn\n",
        "import torch.nn.functional as F\n",
        "from torch.utils.data import DataLoader,random_split\n",
        "from torchvision import datasets,transforms\n",
        "import matplotlib.pyplot as plt"
      ]
    },
    {
      "cell_type": "code",
      "source": [
        "RANDOM_SEED=42\n",
        "BATCH_SIZE=128\n",
        "NUM_EPOCH=10\n",
        "LEARNING_RATE=0.01\n",
        "DEVICE=torch.device(\"cuda\" if torch.cuda.is_available() else \"cpu\")"
      ],
      "metadata": {
        "id": "oUzNke8ianaG"
      },
      "execution_count": 3,
      "outputs": []
    },
    {
      "cell_type": "code",
      "source": [
        "DEVICE"
      ],
      "metadata": {
        "colab": {
          "base_uri": "https://localhost:8080/"
        },
        "id": "p6WrskWkbN6E",
        "outputId": "81940110-f9b2-4ea6-ef79-6da161001749"
      },
      "execution_count": 4,
      "outputs": [
        {
          "output_type": "execute_result",
          "data": {
            "text/plain": [
              "device(type='cuda')"
            ]
          },
          "metadata": {},
          "execution_count": 4
        }
      ]
    },
    {
      "cell_type": "code",
      "source": [
        "##DATASET & LOADER\n",
        "transform = transforms.ToTensor()\n",
        "dataset = datasets.MNIST(root='data', train=True, transform=transform, download=True)\n",
        "test_dataset = datasets.MNIST(root='data', train=False, transform=transform)"
      ],
      "metadata": {
        "colab": {
          "base_uri": "https://localhost:8080/"
        },
        "id": "CdzfCeYpcDmP",
        "outputId": "9364fad4-3e54-4b29-f0f5-99d252db35f1"
      },
      "execution_count": 5,
      "outputs": [
        {
          "output_type": "stream",
          "name": "stderr",
          "text": [
            "100%|██████████| 9.91M/9.91M [00:00<00:00, 17.9MB/s]\n",
            "100%|██████████| 28.9k/28.9k [00:00<00:00, 489kB/s]\n",
            "100%|██████████| 1.65M/1.65M [00:00<00:00, 4.48MB/s]\n",
            "100%|██████████| 4.54k/4.54k [00:00<00:00, 7.41MB/s]\n"
          ]
        }
      ]
    },
    {
      "cell_type": "code",
      "source": [
        "train_dataset,val_dataset=random_split(dataset,[54000,6000])\n",
        "train_loader=DataLoader(train_dataset,batch_size=BATCH_SIZE,shuffle=True)\n",
        "val_loader=DataLoader(val_dataset,batch_size=BATCH_SIZE)\n",
        "test_loader=DataLoader(test_dataset,batch_size=BATCH_SIZE)"
      ],
      "metadata": {
        "id": "W4cNYpI1chS8"
      },
      "execution_count": 6,
      "outputs": []
    },
    {
      "cell_type": "markdown",
      "source": [
        "### MLP MODEL"
      ],
      "metadata": {
        "id": "DH-v7IbBdd6W"
      }
    },
    {
      "cell_type": "code",
      "source": [
        "class MLP(nn.Module):\n",
        "  def __init__(self,input_dim=784,hidden1=128,hidden2=64,output_dim=10):\n",
        "    super().__init__()\n",
        "    self.fc1=nn.Linear(input_dim,hidden1)\n",
        "    self.fc2=nn.Linear(hidden1,hidden2)\n",
        "    self.out=nn.Linear(hidden2,output_dim)\n",
        "\n",
        "  def forward(self,x):\n",
        "      x=x.view(-1,28*28) #Flatten the image\n",
        "      x=F.relu(self.fc1(x))\n",
        "      x=F.relu(self.fc2(x))\n",
        "      x=self.out(x)\n",
        "      return x"
      ],
      "metadata": {
        "id": "QWoFs29Adbj0"
      },
      "execution_count": 12,
      "outputs": []
    },
    {
      "cell_type": "markdown",
      "source": [
        "###Traning Function"
      ],
      "metadata": {
        "id": "zimwl6K5e23N"
      }
    },
    {
      "cell_type": "code",
      "source": [
        "def train(model,loader,optimizer,criterion):\n",
        "  model.train()\n",
        "  running_loss,correct,total=0.0,0,0\n",
        "  for imgs,labels in loader:\n",
        "    imgs,labels=imgs.to(DEVICE),labels.to(DEVICE)\n",
        "\n",
        "    outputs=model(imgs)\n",
        "    loss=criterion(outputs,labels)\n",
        "    optimizer.zero_grad()\n",
        "    loss.backward()\n",
        "    optimizer.step()\n",
        "\n",
        "    running_loss +=loss.item()\n",
        "    _,predicted=torch.max(outputs,1)\n",
        "    correct+=(predicted== labels).sum().item()\n",
        "    total+=labels.size(0)\n",
        "\n",
        "\n",
        "  return running_loss/len(loader),correct/total*100"
      ],
      "metadata": {
        "id": "VUr66hTue1Dh"
      },
      "execution_count": 17,
      "outputs": []
    },
    {
      "cell_type": "markdown",
      "source": [
        "### Evaluation Function"
      ],
      "metadata": {
        "id": "yytBE30ehGJk"
      }
    },
    {
      "cell_type": "code",
      "source": [
        "def evaluate(model,loader):\n",
        "    model.eval()\n",
        "    correct,total=0,0\n",
        "\n",
        "    with torch.no_grad():\n",
        "      for imgs,labels in loader:\n",
        "        imgs,labels=imgs.to(DEVICE),labels.to(DEVICE)\n",
        "        outputs=model(imgs)\n",
        "        loss=criterion(outputs,labels)\n",
        "        _,predicted=torch.max(outputs,1)\n",
        "        correct+=(predicted==labels).sum().item()\n",
        "        total+= labels.size(0)\n",
        "\n",
        "      return correct/total*100"
      ],
      "metadata": {
        "id": "ghtRRYelhEtC"
      },
      "execution_count": 26,
      "outputs": []
    },
    {
      "cell_type": "markdown",
      "source": [
        "###INIT & TRAIN"
      ],
      "metadata": {
        "id": "JfvMo9hnp4Uq"
      }
    },
    {
      "cell_type": "code",
      "source": [
        "model=MLP().to(DEVICE)\n",
        "optimizer=torch.optim.SGD(model.parameters(),lr=LEARNING_RATE)\n",
        "criterion=nn.CrossEntropyLoss()\n",
        "NUM_EPOCHS=10 #MAKE SURE this line is executed\n",
        "train_acc_list=[]\n",
        "val_acc_list=[]\n",
        "\n",
        "for epoch in range(NUM_EPOCHS):\n",
        "   train_loss,tarin_acc=train(model,train_loader,optimizer,criterion)\n",
        "   val_acc=evaluate(model,val_loader)\n",
        "   train_acc_list.append(train_acc)\n",
        "   val_acc_list.append(val_acc)\n",
        "   print(f\"Epoch {epoch+1} | Loss: {train_loss:.4f} | Train Acc: {train_acc:.2f}% | Val Acc: {val_acc:.2f}%\")\n"
      ],
      "metadata": {
        "colab": {
          "base_uri": "https://localhost:8080/"
        },
        "id": "Bn0iUfkcptQJ",
        "outputId": "7a88164a-f768-476e-e619-56b58454a481"
      },
      "execution_count": 27,
      "outputs": [
        {
          "output_type": "stream",
          "name": "stdout",
          "text": [
            "Epoch 1 | Loss: 2.2025 | Train Acc: 38.06% | Val Acc: 52.18%\n",
            "Epoch 2 | Loss: 1.4732 | Train Acc: 38.06% | Val Acc: 80.48%\n",
            "Epoch 3 | Loss: 0.7167 | Train Acc: 38.06% | Val Acc: 86.27%\n",
            "Epoch 4 | Loss: 0.5076 | Train Acc: 38.06% | Val Acc: 88.12%\n",
            "Epoch 5 | Loss: 0.4319 | Train Acc: 38.06% | Val Acc: 89.25%\n",
            "Epoch 6 | Loss: 0.3921 | Train Acc: 38.06% | Val Acc: 89.92%\n",
            "Epoch 7 | Loss: 0.3666 | Train Acc: 38.06% | Val Acc: 90.43%\n",
            "Epoch 8 | Loss: 0.3478 | Train Acc: 38.06% | Val Acc: 90.85%\n",
            "Epoch 9 | Loss: 0.3329 | Train Acc: 38.06% | Val Acc: 91.25%\n",
            "Epoch 10 | Loss: 0.3203 | Train Acc: 38.06% | Val Acc: 91.57%\n"
          ]
        }
      ]
    },
    {
      "cell_type": "markdown",
      "source": [
        "###FINAL TEST ACCURACY"
      ],
      "metadata": {
        "id": "AyH4Zf2Axa-h"
      }
    },
    {
      "cell_type": "code",
      "source": [
        "test_acc=evaluate(model,test_loader)\n",
        "print(f\"Test Accuracy: {test_acc:.2f}%\")"
      ],
      "metadata": {
        "colab": {
          "base_uri": "https://localhost:8080/"
        },
        "id": "GkSSqb3tvmKV",
        "outputId": "6844d032-6b07-42d0-ce1e-3a50f62b1b2b"
      },
      "execution_count": 28,
      "outputs": [
        {
          "output_type": "stream",
          "name": "stdout",
          "text": [
            "Test Accuracy: 91.28%\n"
          ]
        }
      ]
    },
    {
      "cell_type": "markdown",
      "source": [
        "###PLOT ACCURACY"
      ],
      "metadata": {
        "id": "rAavxafRxq0T"
      }
    },
    {
      "cell_type": "code",
      "source": [
        "plt.plot(train_acc_list, label='Train Accuracy')\n",
        "plt.plot(val_acc_list, label='Validation Accuracy')\n",
        "plt.xlabel('Epoch')\n",
        "plt.ylabel('Accuracy (%)')\n",
        "plt.legend()\n",
        "plt.grid(True)\n",
        "plt.title('MLP Accuracy')\n",
        "plt.show()"
      ],
      "metadata": {
        "colab": {
          "base_uri": "https://localhost:8080/",
          "height": 472
        },
        "id": "CIdOxSEqxoCC",
        "outputId": "fb5b994a-2349-45d5-c87c-b4937c51d217"
      },
      "execution_count": 29,
      "outputs": [
        {
          "output_type": "display_data",
          "data": {
            "text/plain": [
              "<Figure size 640x480 with 1 Axes>"
            ],
            "image/png": "[encoded data removed]"
          },
          "metadata": {}
        }
      ]
    }
  ]
}
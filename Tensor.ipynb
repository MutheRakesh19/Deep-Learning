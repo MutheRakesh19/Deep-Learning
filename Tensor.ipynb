{
  "nbformat": 4,
  "nbformat_minor": 0,
  "metadata": {
    "colab": {
      "provenance": [],
      "gpuType": "T4"
    },
    "kernelspec": {
      "name": "python3",
      "display_name": "Python 3"
    },
    "language_info": {
      "name": "python"
    },
    "accelerator": "GPU"
  },
  "cells": [
    {
      "cell_type": "markdown",
      "source": [
        "### Introduction"
      ],
      "metadata": {
        "id": "5Nx4nD3SBVB8"
      }
    },
    {
      "cell_type": "code",
      "execution_count": 52,
      "metadata": {
        "id": "jfRQ_n6tBLbM"
      },
      "outputs": [],
      "source": [
        "## pytorch framework- Tensor datatypes\n",
        "#### >> Tensor  are similar to Numpy arrays ,tensors can run on \"GPU's\"\n",
        "##>>> Where as numpy arraya can't run an \"GPU'S\""
      ]
    },
    {
      "cell_type": "markdown",
      "source": [
        "## Initailization tensor\n"
      ],
      "metadata": {
        "id": "HDRbeA8KNItb"
      }
    },
    {
      "cell_type": "code",
      "source": [
        "# Initailization a Tensor\n",
        "import numpy as np\n",
        "data=[[1,2],[3,4]]\n",
        "# converting this numpy array\n",
        "np_array=np.array(data)\n",
        "print(np_array.shape)\n",
        "print(np_array)\n",
        "print(type(np_array))"
      ],
      "metadata": {
        "colab": {
          "base_uri": "https://localhost:8080/"
        },
        "id": "rr-CLA5pCIkK",
        "outputId": "8d021139-d6da-4d52-da1c-b988c9dbe072"
      },
      "execution_count": 53,
      "outputs": [
        {
          "output_type": "stream",
          "name": "stdout",
          "text": [
            "(2, 2)\n",
            "[[1 2]\n",
            " [3 4]]\n",
            "<class 'numpy.ndarray'>\n"
          ]
        }
      ]
    },
    {
      "cell_type": "code",
      "source": [
        "import torch\n",
        "torch_tensor=torch.Tensor(data)\n",
        "print(torch.Tensor)\n",
        "print(torch_tensor)\n",
        "print(type(torch_tensor))"
      ],
      "metadata": {
        "colab": {
          "base_uri": "https://localhost:8080/"
        },
        "id": "BciC7IveCzFf",
        "outputId": "1f5b04e3-af31-44a4-e024-2a737f92c0c5"
      },
      "execution_count": 54,
      "outputs": [
        {
          "output_type": "stream",
          "name": "stdout",
          "text": [
            "<class 'torch.Tensor'>\n",
            "tensor([[1., 2.],\n",
            "        [3., 4.]])\n",
            "<class 'torch.Tensor'>\n"
          ]
        }
      ]
    },
    {
      "cell_type": "code",
      "source": [
        "#converting numpy array to Tensor\n",
        "x_tensor=torch.from_numpy(np_array)\n",
        "x_tensor"
      ],
      "metadata": {
        "colab": {
          "base_uri": "https://localhost:8080/"
        },
        "id": "CkT2bqNUDOul",
        "outputId": "19147ea1-f6d7-47f2-8a4d-5fa258404a39"
      },
      "execution_count": 55,
      "outputs": [
        {
          "output_type": "execute_result",
          "data": {
            "text/plain": [
              "tensor([[1, 2],\n",
              "        [3, 4]])"
            ]
          },
          "metadata": {},
          "execution_count": 55
        }
      ]
    },
    {
      "cell_type": "code",
      "source": [
        "#create a tensor of all ones similar to \"x_tensor\"\n",
        "x_ones=torch.ones_like(x_tensor)\n",
        "print(x_ones)"
      ],
      "metadata": {
        "colab": {
          "base_uri": "https://localhost:8080/"
        },
        "id": "_MextLynDqMZ",
        "outputId": "8b2bbaba-48f1-4181-e00f-a69b629f3732"
      },
      "execution_count": 56,
      "outputs": [
        {
          "output_type": "stream",
          "name": "stdout",
          "text": [
            "tensor([[1, 1],\n",
            "        [1, 1]])\n"
          ]
        }
      ]
    },
    {
      "cell_type": "code",
      "source": [
        "## Create a  Random tensor similar to \"x_tensor\"\n",
        "x_random=torch.rand_like(x_tensor,dtype=torch.float) #np.float\n",
        "print(x_random)\n"
      ],
      "metadata": {
        "colab": {
          "base_uri": "https://localhost:8080/"
        },
        "id": "6gYFvDzpD-IX",
        "outputId": "50ed2674-5157-4d59-a095-cb6c5b8bae81"
      },
      "execution_count": 57,
      "outputs": [
        {
          "output_type": "stream",
          "name": "stdout",
          "text": [
            "tensor([[0.6445, 0.1835],\n",
            "        [0.9596, 0.1844]])\n"
          ]
        }
      ]
    },
    {
      "cell_type": "code",
      "source": [
        "# Generate Tensor Shape AND create nampy array\n",
        "shape=(2,3) ## 2x3x1\n",
        "rand_tensor=torch.rand(shape)  ##np.random.rand\n",
        "ones_tensor=torch.ones(shape)  ## np.ones\n",
        "zeros_tensor=torch.zeros(shape)  ## np.zeros"
      ],
      "metadata": {
        "id": "IFd3HZYQExnW"
      },
      "execution_count": 58,
      "outputs": []
    },
    {
      "cell_type": "code",
      "source": [
        "print(rand_tensor)\n",
        "print(ones_tensor)\n",
        "print(zeros_tensor)\n",
        "print(rand_tensor.shape)"
      ],
      "metadata": {
        "colab": {
          "base_uri": "https://localhost:8080/"
        },
        "id": "TBatXAQbFlAQ",
        "outputId": "bf9ed3ea-f505-4bc9-b66f-b8160d146c0b"
      },
      "execution_count": 59,
      "outputs": [
        {
          "output_type": "stream",
          "name": "stdout",
          "text": [
            "tensor([[0.8066, 0.9117, 0.1922],\n",
            "        [0.1441, 0.1263, 0.9940]])\n",
            "tensor([[1., 1., 1.],\n",
            "        [1., 1., 1.]])\n",
            "tensor([[0., 0., 0.],\n",
            "        [0., 0., 0.]])\n",
            "torch.Size([2, 3])\n"
          ]
        }
      ]
    },
    {
      "cell_type": "code",
      "source": [
        "## Check the Tensor Random\n",
        "tensor=torch.rand(3,4)\n",
        "tensor.shape\n",
        "tensor.dtype\n",
        "tensor.device\n",
        "\n",
        "\n"
      ],
      "metadata": {
        "colab": {
          "base_uri": "https://localhost:8080/"
        },
        "id": "gXh1Q9u7F7HC",
        "outputId": "8b96ddec-5741-4424-8b77-fc7568bc0a5d"
      },
      "execution_count": 60,
      "outputs": [
        {
          "output_type": "execute_result",
          "data": {
            "text/plain": [
              "device(type='cpu')"
            ]
          },
          "metadata": {},
          "execution_count": 60
        }
      ]
    },
    {
      "cell_type": "code",
      "source": [
        "## check the device GPU or CPU\n",
        "\n",
        "if torch.cuda.is_available():\n",
        "  tensor=tensor.to(\"cuda\")\n",
        "\n",
        "else:\n",
        "  pass"
      ],
      "metadata": {
        "id": "s-iQ-adyG56U"
      },
      "execution_count": 61,
      "outputs": []
    },
    {
      "cell_type": "code",
      "source": [
        "tensor.device"
      ],
      "metadata": {
        "colab": {
          "base_uri": "https://localhost:8080/"
        },
        "id": "KZPsJcdeHaV8",
        "outputId": "0be744d1-8c6f-4be3-935d-21152e28f866"
      },
      "execution_count": 62,
      "outputs": [
        {
          "output_type": "execute_result",
          "data": {
            "text/plain": [
              "device(type='cuda', index=0)"
            ]
          },
          "metadata": {},
          "execution_count": 62
        }
      ]
    },
    {
      "cell_type": "code",
      "source": [
        "## Check the first row of tensor\n",
        "tensor=torch.ones(4,4)\n",
        "tensor[0]"
      ],
      "metadata": {
        "colab": {
          "base_uri": "https://localhost:8080/"
        },
        "id": "4uzgT7JjHdOU",
        "outputId": "62bc13d8-3115-44c2-af87-9bb6e1f2ffc5"
      },
      "execution_count": 63,
      "outputs": [
        {
          "output_type": "execute_result",
          "data": {
            "text/plain": [
              "tensor([1., 1., 1., 1.])"
            ]
          },
          "metadata": {},
          "execution_count": 63
        }
      ]
    },
    {
      "cell_type": "code",
      "source": [
        "## check the first column of the tensor\n",
        "tensor[:,0]\n"
      ],
      "metadata": {
        "colab": {
          "base_uri": "https://localhost:8080/"
        },
        "id": "L8V7Dv_FHoAo",
        "outputId": "d391b036-a5e9-4a53-ea51-1a72776cacea"
      },
      "execution_count": 64,
      "outputs": [
        {
          "output_type": "execute_result",
          "data": {
            "text/plain": [
              "tensor([1., 1., 1., 1.])"
            ]
          },
          "metadata": {},
          "execution_count": 64
        }
      ]
    },
    {
      "cell_type": "code",
      "source": [
        "## check last column of the tensor\n",
        "tensor[:,-1]"
      ],
      "metadata": {
        "colab": {
          "base_uri": "https://localhost:8080/"
        },
        "id": "J7qhPefuIBeb",
        "outputId": "4fac2e1e-f72b-4667-8485-775304a652e8"
      },
      "execution_count": 65,
      "outputs": [
        {
          "output_type": "execute_result",
          "data": {
            "text/plain": [
              "tensor([1., 1., 1., 1.])"
            ]
          },
          "metadata": {},
          "execution_count": 65
        }
      ]
    },
    {
      "cell_type": "code",
      "source": [
        "## Concating the Tensor\n",
        "torch.cat([tensor,tensor,tensor],dim=1) # dim is Dimansional\n",
        "## in pytorch does not use axis=1 only use \"dim=1\""
      ],
      "metadata": {
        "colab": {
          "base_uri": "https://localhost:8080/"
        },
        "id": "-sxe_57HIEye",
        "outputId": "bff61672-b287-43ec-8efd-fa7d4423a58c"
      },
      "execution_count": 66,
      "outputs": [
        {
          "output_type": "execute_result",
          "data": {
            "text/plain": [
              "tensor([[1., 1., 1., 1., 1., 1., 1., 1., 1., 1., 1., 1.],\n",
              "        [1., 1., 1., 1., 1., 1., 1., 1., 1., 1., 1., 1.],\n",
              "        [1., 1., 1., 1., 1., 1., 1., 1., 1., 1., 1., 1.],\n",
              "        [1., 1., 1., 1., 1., 1., 1., 1., 1., 1., 1., 1.]])"
            ]
          },
          "metadata": {},
          "execution_count": 66
        }
      ]
    },
    {
      "cell_type": "code",
      "source": [
        "## arithemetic operations\n",
        "t1=torch.rand(2,2)\n",
        "t2=torch.rand(2,2)\n",
        "#> Matrics Multiplication in numpy and pytorch\n",
        "y1=t1@t2.T # (or)\n",
        "y2=t1.matmul(t2.T)"
      ],
      "metadata": {
        "id": "wq6XqkEzIhYB"
      },
      "execution_count": 67,
      "outputs": []
    },
    {
      "cell_type": "code",
      "source": [
        "y1"
      ],
      "metadata": {
        "colab": {
          "base_uri": "https://localhost:8080/"
        },
        "id": "_s2sS7T6JCAH",
        "outputId": "7a583aae-312d-49a5-d115-13965d35ebd0"
      },
      "execution_count": 68,
      "outputs": [
        {
          "output_type": "execute_result",
          "data": {
            "text/plain": [
              "tensor([[0.2180, 0.3573],\n",
              "        [0.1751, 0.3292]])"
            ]
          },
          "metadata": {},
          "execution_count": 68
        }
      ]
    },
    {
      "cell_type": "code",
      "source": [
        "y2"
      ],
      "metadata": {
        "colab": {
          "base_uri": "https://localhost:8080/"
        },
        "id": "YeqzgMkFJWN1",
        "outputId": "1b1c72c5-0d4e-49f5-9896-6447f11f5be0"
      },
      "execution_count": 69,
      "outputs": [
        {
          "output_type": "execute_result",
          "data": {
            "text/plain": [
              "tensor([[0.2180, 0.3573],\n",
              "        [0.1751, 0.3292]])"
            ]
          },
          "metadata": {},
          "execution_count": 69
        }
      ]
    },
    {
      "cell_type": "code",
      "source": [
        "# Multipli two elements [2x2 ] and [2x2]\n",
        "z1=t1*t2\n",
        "z1"
      ],
      "metadata": {
        "colab": {
          "base_uri": "https://localhost:8080/"
        },
        "id": "eFtUblblJXYc",
        "outputId": "55cde904-e97c-4048-c603-cba0b42b056a"
      },
      "execution_count": 70,
      "outputs": [
        {
          "output_type": "execute_result",
          "data": {
            "text/plain": [
              "tensor([[0.0503, 0.1676],\n",
              "        [0.0043, 0.3249]])"
            ]
          },
          "metadata": {},
          "execution_count": 70
        }
      ]
    },
    {
      "cell_type": "code",
      "source": [
        "z2=t1.matmul(t2) #matmul does matrix multiplication : mul does elementwise multiplication\n",
        "z2 # mutmul means \"matrix multiplication\""
      ],
      "metadata": {
        "colab": {
          "base_uri": "https://localhost:8080/"
        },
        "id": "TLd6CusvJlHi",
        "outputId": "68ac82dc-aefb-42f1-8035-ad486c7ed461"
      },
      "execution_count": 71,
      "outputs": [
        {
          "output_type": "execute_result",
          "data": {
            "text/plain": [
              "tensor([[0.1463, 0.3835],\n",
              "        [0.1029, 0.3324]])"
            ]
          },
          "metadata": {},
          "execution_count": 71
        }
      ]
    },
    {
      "cell_type": "code",
      "source": [
        "# Aggregation\n",
        "agg=t1.sum()\n",
        "agg"
      ],
      "metadata": {
        "colab": {
          "base_uri": "https://localhost:8080/"
        },
        "id": "rYApYdOGJ6Di",
        "outputId": "e8f56e67-284c-4064-b091-695e353a6937"
      },
      "execution_count": 72,
      "outputs": [
        {
          "output_type": "execute_result",
          "data": {
            "text/plain": [
              "tensor(1.2150)"
            ]
          },
          "metadata": {},
          "execution_count": 72
        }
      ]
    },
    {
      "cell_type": "code",
      "source": [
        "agg.item() ## its only give the value"
      ],
      "metadata": {
        "colab": {
          "base_uri": "https://localhost:8080/"
        },
        "id": "NiKpHzVzKbwO",
        "outputId": "fd5d360e-c3cd-4430-e388-a316827fd6e6"
      },
      "execution_count": 73,
      "outputs": [
        {
          "output_type": "execute_result",
          "data": {
            "text/plain": [
              "1.2149665355682373"
            ]
          },
          "metadata": {},
          "execution_count": 73
        }
      ]
    },
    {
      "cell_type": "code",
      "source": [
        "#Create tensor\n",
        "t1=torch.ones(4,4)\n",
        "t1[:,1]=0\n",
        "#it's assiging the second column is \"zero\"\n",
        "t1"
      ],
      "metadata": {
        "colab": {
          "base_uri": "https://localhost:8080/"
        },
        "id": "muLHos46KhIq",
        "outputId": "e1896831-263d-4304-e0c8-74181dc35fa5"
      },
      "execution_count": 74,
      "outputs": [
        {
          "output_type": "execute_result",
          "data": {
            "text/plain": [
              "tensor([[1., 0., 1., 1.],\n",
              "        [1., 0., 1., 1.],\n",
              "        [1., 0., 1., 1.],\n",
              "        [1., 0., 1., 1.]])"
            ]
          },
          "metadata": {},
          "execution_count": 74
        }
      ]
    },
    {
      "cell_type": "code",
      "source": [
        "t1=torch.rand(5,5)\n",
        "t1[:,1]=3\n",
        "t1"
      ],
      "metadata": {
        "colab": {
          "base_uri": "https://localhost:8080/"
        },
        "id": "a9fKUpseLCFc",
        "outputId": "66a1cc2f-2998-48cb-930f-36741bf17d03"
      },
      "execution_count": 78,
      "outputs": [
        {
          "output_type": "execute_result",
          "data": {
            "text/plain": [
              "tensor([[0.9684, 3.0000, 0.9736, 0.0796, 0.5031],\n",
              "        [0.4285, 3.0000, 0.4333, 0.3208, 0.8929],\n",
              "        [0.2635, 3.0000, 0.6278, 0.2248, 0.5225],\n",
              "        [0.4180, 3.0000, 0.4400, 0.2520, 0.9605],\n",
              "        [0.5750, 3.0000, 0.2214, 0.3265, 0.7473]])"
            ]
          },
          "metadata": {},
          "execution_count": 78
        }
      ]
    },
    {
      "cell_type": "code",
      "source": [
        "## Adding the number\n",
        "t1.add_(5)\n",
        "#adding any paticular elament wecan use this \"add()\"\n"
      ],
      "metadata": {
        "colab": {
          "base_uri": "https://localhost:8080/"
        },
        "id": "AnJbO0HzLRkN",
        "outputId": "373cebaa-4df9-411a-8272-e56ea6ba1a07"
      },
      "execution_count": 76,
      "outputs": [
        {
          "output_type": "execute_result",
          "data": {
            "text/plain": [
              "tensor([[6., 5., 6., 6.],\n",
              "        [6., 5., 6., 6.],\n",
              "        [6., 5., 6., 6.],\n",
              "        [6., 5., 6., 6.]])"
            ]
          },
          "metadata": {},
          "execution_count": 76
        }
      ]
    },
    {
      "cell_type": "code",
      "source": [
        "# Create Numpy array\n",
        "x=np.array([[1,2],[3,4]])\n",
        " # how to convert to tensor\n",
        "tensor=torch.from_numpy(x)\n",
        "#convert into tensor\n",
        "y=tensor.numpy()\n",
        "#convert into numpy array\n"
      ],
      "metadata": {
        "id": "2IwBbUukMDdg"
      },
      "execution_count": 81,
      "outputs": []
    },
    {
      "cell_type": "code",
      "source": [
        "type(x)\n"
      ],
      "metadata": {
        "colab": {
          "base_uri": "https://localhost:8080/"
        },
        "id": "EAT7z-q8M6tg",
        "outputId": "7b5b5406-e2d8-4111-a057-36f556aeff71"
      },
      "execution_count": 82,
      "outputs": [
        {
          "output_type": "execute_result",
          "data": {
            "text/plain": [
              "numpy.ndarray"
            ]
          },
          "metadata": {},
          "execution_count": 82
        }
      ]
    },
    {
      "cell_type": "code",
      "source": [
        "type(tensor)\n"
      ],
      "metadata": {
        "colab": {
          "base_uri": "https://localhost:8080/"
        },
        "id": "su4lL_B9NDBQ",
        "outputId": "f8dba0d9-d0bb-4590-bea9-7d5a61157286"
      },
      "execution_count": 83,
      "outputs": [
        {
          "output_type": "execute_result",
          "data": {
            "text/plain": [
              "torch.Tensor"
            ]
          },
          "metadata": {},
          "execution_count": 83
        }
      ]
    },
    {
      "cell_type": "code",
      "source": [
        "type(y)"
      ],
      "metadata": {
        "colab": {
          "base_uri": "https://localhost:8080/"
        },
        "id": "vftaNQIONEwO",
        "outputId": "59abb83c-18e0-4b96-9a5e-1eb3980a4191"
      },
      "execution_count": 84,
      "outputs": [
        {
          "output_type": "execute_result",
          "data": {
            "text/plain": [
              "numpy.ndarray"
            ]
          },
          "metadata": {},
          "execution_count": 84
        }
      ]
    },
    {
      "cell_type": "code",
      "source": [],
      "metadata": {
        "id": "p1HUyxPFNFsi"
      },
      "execution_count": null,
      "outputs": []
    }
  ]
}